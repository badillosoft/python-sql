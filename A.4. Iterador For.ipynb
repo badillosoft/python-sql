{
 "cells": [
  {
   "cell_type": "markdown",
   "metadata": {},
   "source": [
    "# Iterador For\n",
    "\n",
    "Alan Badillo Salas (badillo.soft@hotmail.com)"
   ]
  },
  {
   "cell_type": "markdown",
   "metadata": {},
   "source": [
    "Un iterador es aquel que recorre elementos sobre un iterable.\n",
    "\n",
    "Un iterable es un objeto que puede ser recorrido mediante indices, claves o llamadas. Los iterables más comunes son las colecciones (listas, tuplas, diccionarios) y la función `range`.\n",
    "\n",
    "El iterador `for` consiste en dos elementos, primero el iterando que es una variable que retiene los datos que se están recorriendo, el segundo es el iterable que es la lista o rango de dónde se están extrayendo los elementos.\n",
    "\n",
    "> Sintaxis:"
   ]
  },
  {
   "cell_type": "code",
   "execution_count": null,
   "metadata": {},
   "outputs": [],
   "source": [
    "for iterando in iterable:\n",
    "    # código con acceso al iterando recorrido"
   ]
  },
  {
   "cell_type": "code",
   "execution_count": 1,
   "metadata": {},
   "outputs": [
    {
     "name": "stdout",
     "output_type": "stream",
     "text": [
      "1\n",
      "2\n",
      "5\n"
     ]
    }
   ],
   "source": [
    "for x in [1, 2, 5]:\n",
    "    print(x)"
   ]
  },
  {
   "cell_type": "code",
   "execution_count": 2,
   "metadata": {},
   "outputs": [
    {
     "name": "stdout",
     "output_type": "stream",
     "text": [
      "1 1\n",
      "2 4\n",
      "5 25\n"
     ]
    }
   ],
   "source": [
    "for x in [1, 2, 5]:\n",
    "    y = x ** 2\n",
    "    print(x, y)"
   ]
  },
  {
   "cell_type": "code",
   "execution_count": 3,
   "metadata": {},
   "outputs": [
    {
     "name": "stdout",
     "output_type": "stream",
     "text": [
      "1 1\n",
      "2 4\n",
      "5 25\n",
      "Aquí terminó for y podemos continuar nuestro código\n"
     ]
    }
   ],
   "source": [
    "for x in [1, 2, 5]:\n",
    "    y = x ** 2\n",
    "    print(x, y)\n",
    "    \n",
    "print(\"Aquí terminó for y podemos continuar nuestro código\")"
   ]
  },
  {
   "cell_type": "code",
   "execution_count": 4,
   "metadata": {},
   "outputs": [
    {
     "name": "stdout",
     "output_type": "stream",
     "text": [
      "1 1\n",
      "Este print aún pertenece a for, porque tiene el mismo nivel de indentación\n",
      "2 4\n",
      "Este print aún pertenece a for, porque tiene el mismo nivel de indentación\n",
      "5 25\n",
      "Este print aún pertenece a for, porque tiene el mismo nivel de indentación\n"
     ]
    }
   ],
   "source": [
    "for x in [1, 2, 5]:\n",
    "    y = x ** 2\n",
    "    print(x, y)\n",
    "    \n",
    "    print(\"Este print aún pertenece a for, porque tiene el mismo nivel de indentación\")"
   ]
  },
  {
   "cell_type": "markdown",
   "metadata": {},
   "source": [
    "En el siguiente ejemplo vamos a sumar durante todas las iteraciones los iterandos que están siendo recorridos.\n",
    "\n",
    "`s` representa la suma de los valores en la lista."
   ]
  },
  {
   "cell_type": "code",
   "execution_count": 5,
   "metadata": {},
   "outputs": [
    {
     "name": "stdout",
     "output_type": "stream",
     "text": [
      "8\n"
     ]
    }
   ],
   "source": [
    "s = 0\n",
    "\n",
    "for x in [1, 2, 5]:\n",
    "    s = s + x\n",
    "    \n",
    "print(s)"
   ]
  },
  {
   "cell_type": "code",
   "execution_count": 7,
   "metadata": {},
   "outputs": [
    {
     "name": "stdout",
     "output_type": "stream",
     "text": [
      "1\n",
      "5\n",
      "8\n",
      "7\n"
     ]
    }
   ],
   "source": [
    "a = [1, 5, 8, 7]\n",
    "\n",
    "for x in a:\n",
    "    print(x)"
   ]
  },
  {
   "cell_type": "code",
   "execution_count": 8,
   "metadata": {},
   "outputs": [
    {
     "name": "stdout",
     "output_type": "stream",
     "text": [
      "1\n",
      "2\n",
      "3\n",
      "4\n"
     ]
    }
   ],
   "source": [
    "for x in range(1, 5): # el rango excluye a 5\n",
    "    print(x)"
   ]
  },
  {
   "cell_type": "code",
   "execution_count": 9,
   "metadata": {},
   "outputs": [
    {
     "name": "stdout",
     "output_type": "stream",
     "text": [
      "10\n",
      "11\n",
      "12\n",
      "13\n",
      "14\n"
     ]
    }
   ],
   "source": [
    "for x in range(10, 15): # el rango excluye a 15\n",
    "    print(x)"
   ]
  },
  {
   "cell_type": "code",
   "execution_count": 10,
   "metadata": {},
   "outputs": [
    {
     "name": "stdout",
     "output_type": "stream",
     "text": [
      "5050\n"
     ]
    }
   ],
   "source": [
    "s = 0\n",
    "\n",
    "for x in range(1, 101):\n",
    "    s = s + x\n",
    "    \n",
    "print(s)"
   ]
  }
 ],
 "metadata": {
  "kernelspec": {
   "display_name": "Python 3",
   "language": "python",
   "name": "python3"
  },
  "language_info": {
   "codemirror_mode": {
    "name": "ipython",
    "version": 3
   },
   "file_extension": ".py",
   "mimetype": "text/x-python",
   "name": "python",
   "nbconvert_exporter": "python",
   "pygments_lexer": "ipython3",
   "version": "3.7.3"
  }
 },
 "nbformat": 4,
 "nbformat_minor": 4
}
