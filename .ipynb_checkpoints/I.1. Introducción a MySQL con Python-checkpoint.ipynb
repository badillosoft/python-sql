{
 "cells": [
  {
   "cell_type": "markdown",
   "metadata": {},
   "source": [
    "# I.1. Introducción a MySQL con Python\n",
    "\n",
    "Alan Badillo Salas (badillo.soft@hotmail.com)"
   ]
  },
  {
   "cell_type": "code",
   "execution_count": 1,
   "metadata": {},
   "outputs": [
    {
     "name": "stdout",
     "output_type": "stream",
     "text": [
      "Requirement already satisfied: mysql-connector in c:\\programdata\\anaconda3\\lib\\site-packages (2.2.9)\n"
     ]
    }
   ],
   "source": [
    "! pip install mysql-connector"
   ]
  },
  {
   "cell_type": "markdown",
   "metadata": {},
   "source": [
    "Cargamos el módulo `mysql.connector` (instalado previamente) con el alias (sobrenombre) `mysql`.\n",
    "\n",
    "La importación por alias, nos imparta el módulo solicitado, al cuál podremos acceder mediante su alias.\n",
    "\n",
    "Es decir, en lugar de utilizar `mysql.connector`, utilizaremos sólo `mysql`.\n",
    "\n",
    "En la siguiente celda, cargamos el módulo para utilizar *MySQL* y obtenemos la versión utilizada."
   ]
  },
  {
   "cell_type": "code",
   "execution_count": 3,
   "metadata": {},
   "outputs": [
    {
     "data": {
      "text/plain": [
       "'2.2.9'"
      ]
     },
     "execution_count": 3,
     "metadata": {},
     "output_type": "execute_result"
    }
   ],
   "source": [
    "import mysql.connector as mysql\n",
    "\n",
    "mysql.__version__"
   ]
  },
  {
   "cell_type": "markdown",
   "metadata": {},
   "source": [
    "El módulo **mysql** nos va permitir conectarnos a *MySQL* mediante `mysql.connect(...)`, especificando los parámetros de conexión:\n",
    "\n",
    "* host (generalmente localhost, el dominio del servidor o la ip del servidor)\n",
    "* port (generalmente 3306, es el puerto instanciado)\n",
    "* user (generalmente root, el nombre del usuario)\n",
    "* passwd (la contraseña del usuario)\n",
    "* dbname (nombre de la base de datos, opcional si se usa *use <dbname>*)\n",
    "* auth_plugin=\"mysql_native_password\" (es necesario en las versiones más recientes, si marca error)\n",
    "\n",
    "La siguiente celda nos conecta a mysql y nos crea una conexión."
   ]
  },
  {
   "cell_type": "code",
   "execution_count": 7,
   "metadata": {},
   "outputs": [
    {
     "data": {
      "text/plain": [
       "<mysql.connector.connection.MySQLConnection at 0x17935b6cf60>"
      ]
     },
     "execution_count": 7,
     "metadata": {},
     "output_type": "execute_result"
    }
   ],
   "source": [
    "db = mysql.connect(\n",
    "    user=\"root\",\n",
    "    passwd=\"password\",\n",
    "    auth_plugin=\"mysql_native_password\"\n",
    ")\n",
    "\n",
    "db"
   ]
  },
  {
   "cell_type": "markdown",
   "metadata": {},
   "source": [
    "Una vez conectado a *MySQL* podemos crear un cursor de ejecución. El cursor de ejecución nos va a permitir mandar instrucciones a la base de datos, básicamente vamos a trabajar las bases de datos y toda la comunicación con *MySQL* a través del cursor.\n",
    "\n",
    "En la celda, creamos un cursor a través de nuestra conexión `db` usando `db.cursor()`."
   ]
  },
  {
   "cell_type": "code",
   "execution_count": 8,
   "metadata": {},
   "outputs": [
    {
     "data": {
      "text/plain": [
       "<mysql.connector.cursor.MySQLCursor at 0x17935b6ccf8>"
      ]
     },
     "execution_count": 8,
     "metadata": {},
     "output_type": "execute_result"
    }
   ],
   "source": [
    "cursor = db.cursor()\n",
    "\n",
    "cursor"
   ]
  },
  {
   "cell_type": "markdown",
   "metadata": {},
   "source": [
    "A través de nuestro cursor podemos enviar instrucciones a la base de datos, es decir, sentencias **SQL**.\n",
    "\n",
    "En la siguiente celda, le pedimos al cursor que envíe la sentencia:\n",
    "\n",
    "`CREATE DATABASE IF NOT EXISTS test`\n",
    "\n",
    "La cuál le manda a pedir a *MySQL* que cree una base de datos, si no existe, llamada `test`.\n",
    "\n",
    "La sintaxis es **cursor.execute(sql)**"
   ]
  },
  {
   "cell_type": "code",
   "execution_count": 11,
   "metadata": {},
   "outputs": [],
   "source": [
    "cursor.execute(\"create database if not exists test\")"
   ]
  },
  {
   "cell_type": "markdown",
   "metadata": {},
   "source": [
    "Podemos hacer entonces consultas a *MySQL* a través de nuestro cursor, como por ejemplo, pedir que nos muestre todas las bases de datos en nuestro sistema.\n",
    "\n",
    "En la siguiente celda, consultamos las bases de datos (`show databases`) y para cada registro (fila) en la respuesta del cursor, mostramos el valor del registro (un tupla)."
   ]
  },
  {
   "cell_type": "code",
   "execution_count": 12,
   "metadata": {},
   "outputs": [
    {
     "name": "stdout",
     "output_type": "stream",
     "text": [
      "('almacen',)\n",
      "('catamo',)\n",
      "('cupcakes',)\n",
      "('employees',)\n",
      "('house_hack',)\n",
      "('information_schema',)\n",
      "('lavauto',)\n",
      "('learn',)\n",
      "('mi_empresa',)\n",
      "('mysql',)\n",
      "('performance_schema',)\n",
      "('quat_dev',)\n",
      "('sakila',)\n",
      "('super_cupcakes',)\n",
      "('sys',)\n",
      "('test',)\n",
      "('test_ubee_1',)\n",
      "('ubee',)\n",
      "('ubee_builder',)\n",
      "('ubee_dev',)\n",
      "('world',)\n"
     ]
    }
   ],
   "source": [
    "cursor.execute(\"show databases\")\n",
    "\n",
    "for record in cursor:\n",
    "    print(record)"
   ]
  },
  {
   "cell_type": "markdown",
   "metadata": {},
   "source": [
    "La base de datos **employees**, contiene la información de los empleados de una empresa (unos 300 mil registros). Y puede ser descargada https://dev.mysql.com/doc/employee/en/employees-installation.html\n",
    "\n",
    "En la siguiente celda, indicamos que ahora estaremos trabajando con la base de datos llamada `employees`."
   ]
  },
  {
   "cell_type": "code",
   "execution_count": 14,
   "metadata": {},
   "outputs": [],
   "source": [
    "cursor.execute(\"use employees\")"
   ]
  },
  {
   "cell_type": "markdown",
   "metadata": {},
   "source": [
    "Mostramos las tablas de la base de datos usada (seleccionada) más reciente, en este caso `employees`."
   ]
  },
  {
   "cell_type": "code",
   "execution_count": 15,
   "metadata": {},
   "outputs": [
    {
     "name": "stdout",
     "output_type": "stream",
     "text": [
      "('a',)\n",
      "('current_dept_emp',)\n",
      "('departments',)\n",
      "('dept_count',)\n",
      "('dept_emp',)\n",
      "('dept_emp_latest_date',)\n",
      "('dept_manager',)\n",
      "('employees',)\n",
      "('salaries',)\n",
      "('titles',)\n"
     ]
    }
   ],
   "source": [
    "cursor.execute(\"show tables\")\n",
    "\n",
    "for record in cursor:\n",
    "    print(record)"
   ]
  },
  {
   "cell_type": "markdown",
   "metadata": {},
   "source": [
    "Finalmente podemos lanzar una consulta (búsqueda), para obtener los primeros 10 empleados (cuidado son 300 mil, si no se pone el límite podría bloquear tu navegador y dejar inservible la notebook).\n",
    "\n",
    "La sentencia **select** selecciona los registros **from** desde una tabla, en los campos `*` todos, con un límite de 10 registros máximos."
   ]
  },
  {
   "cell_type": "code",
   "execution_count": 17,
   "metadata": {},
   "outputs": [
    {
     "name": "stdout",
     "output_type": "stream",
     "text": [
      "(10001, datetime.date(1953, 9, 2), 'Georgi', 'Facello', 'M', datetime.date(1986, 6, 26))\n",
      "(10002, datetime.date(1964, 6, 2), 'Bezalel', 'Simmel', 'F', datetime.date(1985, 11, 21))\n",
      "(10003, datetime.date(1959, 12, 3), 'Parto', 'Bamford', 'M', datetime.date(1986, 8, 28))\n",
      "(10004, datetime.date(1954, 5, 1), 'Chirstian', 'Koblick', 'M', datetime.date(1986, 12, 1))\n",
      "(10005, datetime.date(1955, 1, 21), 'Kyoichi', 'Maliniak', 'M', datetime.date(1989, 9, 12))\n",
      "(10006, datetime.date(1953, 4, 20), 'Anneke', 'Preusig', 'F', datetime.date(1989, 6, 2))\n",
      "(10007, datetime.date(1957, 5, 23), 'Tzvetan', 'Zielinski', 'F', datetime.date(1989, 2, 10))\n",
      "(10008, datetime.date(1958, 2, 19), 'Saniya', 'Kalloufi', 'M', datetime.date(1994, 9, 15))\n",
      "(10009, datetime.date(1952, 4, 19), 'Sumant', 'Peac', 'F', datetime.date(1985, 2, 18))\n",
      "(10010, datetime.date(1963, 6, 1), 'Duangkaew', 'Piveteau', 'F', datetime.date(1989, 8, 24))\n"
     ]
    }
   ],
   "source": [
    "cursor.execute(\"select * from employees limit 10\")\n",
    "\n",
    "for record in cursor:\n",
    "    print(record)"
   ]
  },
  {
   "cell_type": "code",
   "execution_count": 18,
   "metadata": {},
   "outputs": [
    {
     "name": "stdout",
     "output_type": "stream",
     "text": [
      "('emp_no', b'int(11)', 'NO', bytearray(b'PRI'), None, bytearray(b''))\n",
      "('birth_date', b'date', 'NO', bytearray(b''), None, bytearray(b''))\n",
      "('first_name', b'varchar(14)', 'NO', bytearray(b''), None, bytearray(b''))\n",
      "('last_name', b'varchar(16)', 'NO', bytearray(b''), None, bytearray(b''))\n",
      "('gender', b\"enum('M','F')\", 'NO', bytearray(b''), None, bytearray(b''))\n",
      "('hire_date', b'date', 'NO', bytearray(b''), None, bytearray(b''))\n"
     ]
    }
   ],
   "source": [
    "cursor.execute(\"describe employees\")\n",
    "\n",
    "for record in cursor:\n",
    "    print(record)"
   ]
  },
  {
   "cell_type": "code",
   "execution_count": null,
   "metadata": {},
   "outputs": [],
   "source": []
  }
 ],
 "metadata": {
  "kernelspec": {
   "display_name": "Python 3",
   "language": "python",
   "name": "python3"
  },
  "language_info": {
   "codemirror_mode": {
    "name": "ipython",
    "version": 3
   },
   "file_extension": ".py",
   "mimetype": "text/x-python",
   "name": "python",
   "nbconvert_exporter": "python",
   "pygments_lexer": "ipython3",
   "version": "3.7.3"
  }
 },
 "nbformat": 4,
 "nbformat_minor": 4
}
