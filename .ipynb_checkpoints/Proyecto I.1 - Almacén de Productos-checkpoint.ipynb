{
 "cells": [
  {
   "cell_type": "markdown",
   "metadata": {},
   "source": [
    "# Proyecto I.1 - Almacén de Productos\n",
    "\n",
    "Alan Badillo Salas (badillo.soft@hotmail.com)"
   ]
  },
  {
   "cell_type": "markdown",
   "metadata": {},
   "source": [
    "> Documentación Python: https://www.w3schools.com/python\n",
    "\n",
    "> Documentación SQL: https://www.w3schools.com/sql/"
   ]
  },
  {
   "cell_type": "markdown",
   "metadata": {},
   "source": [
    "* Importamos la librería mysql.\n",
    "\n",
    "* Creamos la conexión a la base de datos.\n",
    "\n",
    "* Creamos nuestro cursor para ejecutar las consultas a la base de datos.\n",
    "\n",
    "* Crea la base de datos llamada `almacen` en caso de que no exista.\n",
    "\n",
    "* Selecciona la base de datos `almacen` para trabajar con ella.\n",
    "\n",
    "* Imprime que ya estamos conectados a la base de datos almacén."
   ]
  },
  {
   "cell_type": "code",
   "execution_count": 1,
   "metadata": {},
   "outputs": [
    {
     "name": "stdout",
     "output_type": "stream",
     "text": [
      "Conectado al almacén\n"
     ]
    }
   ],
   "source": [
    "import mysql.connector as mysql\n",
    "\n",
    "db = mysql.connect(\n",
    "    host=\"localhost\",\n",
    "    user=\"root\",\n",
    "    passwd=\"password\",\n",
    "    auth_plugin=\"mysql_native_password\"\n",
    ")\n",
    "\n",
    "cursor = db.cursor()\n",
    "\n",
    "cursor.execute(\"create database if not exists almacen\")\n",
    "\n",
    "cursor.execute(\"use almacen\")\n",
    "\n",
    "print(\"Conectado al almacén\")"
   ]
  },
  {
   "cell_type": "code",
   "execution_count": 6,
   "metadata": {},
   "outputs": [
    {
     "name": "stdout",
     "output_type": "stream",
     "text": [
      "Tabla de productos verificada\n"
     ]
    }
   ],
   "source": [
    "cursor.execute(\"\"\"\n",
    "    create table if not exists productos (\n",
    "        id_producto int auto_increment primary key,\n",
    "        nombre varchar(60),\n",
    "        descripcion text,\n",
    "        imagen varchar(120)\n",
    "    )\n",
    "\"\"\")\n",
    "\n",
    "print(\"Tabla de productos verificada\")"
   ]
  },
  {
   "cell_type": "code",
   "execution_count": 7,
   "metadata": {},
   "outputs": [
    {
     "name": "stdin",
     "output_type": "stream",
     "text": [
      "Desea agregar un producto? [y/n] y\n",
      "Nombre: Chocorroles\n",
      "Descripción: Chocolate\n",
      "Imagen (URL): \n"
     ]
    },
    {
     "name": "stdout",
     "output_type": "stream",
     "text": [
      "Producto agregado\n"
     ]
    },
    {
     "name": "stdin",
     "output_type": "stream",
     "text": [
      "Desea agregar un producto? [y/n] n\n"
     ]
    }
   ],
   "source": [
    "while True:\n",
    "    continuar = input(\"Desea agregar un producto? [y/n]\")\n",
    "    \n",
    "    if continuar != \"y\":\n",
    "        break\n",
    "    \n",
    "    nombre = input(\"Nombre:\")\n",
    "    descripcion = input(\"Descripción:\")\n",
    "    imagen = input(\"Imagen (URL):\")\n",
    "    \n",
    "    if len(nombre) == 0:\n",
    "        print(\"El nombre no es válido\")\n",
    "        continue\n",
    "    \n",
    "    if len(descripcion) == 0:\n",
    "        descripcion = \"Sin descripción\"\n",
    "    \n",
    "    if len(imagen) == 0:\n",
    "        imagen = \"http://placehold.it/200\"\n",
    "    \n",
    "    sql = \"insert into productos (nombre, descripcion, imagen) values (%s, %s, %s)\"\n",
    "    params = (nombre, descripcion, imagen)\n",
    "    cursor.execute(sql, params)\n",
    "    print(\"Producto agregado\")"
   ]
  },
  {
   "cell_type": "code",
   "execution_count": 8,
   "metadata": {},
   "outputs": [
    {
     "name": "stdout",
     "output_type": "stream",
     "text": [
      "(5, 'Chocorroles', 'Chocolate', 'http://placehold.it/200')\n",
      "(4, 'Pepsi', 'Refresco de cola', 'http://placehold.it/200')\n"
     ]
    }
   ],
   "source": [
    "cursor.execute(\"select * from productos order by id_producto desc limit 10\")\n",
    "\n",
    "for record in cursor:\n",
    "    print(record)"
   ]
  },
  {
   "cell_type": "code",
   "execution_count": null,
   "metadata": {},
   "outputs": [],
   "source": []
  }
 ],
 "metadata": {
  "kernelspec": {
   "display_name": "Python 3",
   "language": "python",
   "name": "python3"
  },
  "language_info": {
   "codemirror_mode": {
    "name": "ipython",
    "version": 3
   },
   "file_extension": ".py",
   "mimetype": "text/x-python",
   "name": "python",
   "nbconvert_exporter": "python",
   "pygments_lexer": "ipython3",
   "version": "3.7.3"
  }
 },
 "nbformat": 4,
 "nbformat_minor": 4
}
