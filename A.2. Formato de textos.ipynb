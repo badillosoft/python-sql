{
 "cells": [
  {
   "cell_type": "markdown",
   "metadata": {},
   "source": [
    "# A.2. Formato de textos\n",
    "\n",
    "Alan Badillo Salas (badillo.soft@hotmail.com)"
   ]
  },
  {
   "cell_type": "code",
   "execution_count": 1,
   "metadata": {},
   "outputs": [
    {
     "data": {
      "text/plain": [
       "'Hola mundo'"
      ]
     },
     "execution_count": 1,
     "metadata": {},
     "output_type": "execute_result"
    }
   ],
   "source": [
    "\"Hola mundo\""
   ]
  },
  {
   "cell_type": "code",
   "execution_count": 2,
   "metadata": {},
   "outputs": [
    {
     "data": {
      "text/plain": [
       "'Hola mundo'"
      ]
     },
     "execution_count": 2,
     "metadata": {},
     "output_type": "execute_result"
    }
   ],
   "source": [
    "\"Hola {}\".format(\"mundo\")"
   ]
  },
  {
   "cell_type": "code",
   "execution_count": 3,
   "metadata": {},
   "outputs": [
    {
     "data": {
      "text/plain": [
       "'Hola, me llamo Anika y tengo 23 años'"
      ]
     },
     "execution_count": 3,
     "metadata": {},
     "output_type": "execute_result"
    }
   ],
   "source": [
    "\"Hola, me llamo {} y tengo {} años\".format(\"Anika\", 23)"
   ]
  },
  {
   "cell_type": "code",
   "execution_count": 4,
   "metadata": {},
   "outputs": [
    {
     "data": {
      "text/plain": [
       "'El número pi se aproxima por 22 / 7 equivalente a 3.142857142857143'"
      ]
     },
     "execution_count": 4,
     "metadata": {},
     "output_type": "execute_result"
    }
   ],
   "source": [
    "\"El número pi se aproxima por 22 / 7 equivalente a {}\".format(22 / 7)"
   ]
  },
  {
   "cell_type": "code",
   "execution_count": 5,
   "metadata": {},
   "outputs": [
    {
     "data": {
      "text/plain": [
       "'Mostraremos sólo 2 posiciones de 22 / 7: 3.14'"
      ]
     },
     "execution_count": 5,
     "metadata": {},
     "output_type": "execute_result"
    }
   ],
   "source": [
    "\"Mostraremos sólo 2 posiciones de 22 / 7: {:.2f}\".format(22 / 7)"
   ]
  },
  {
   "cell_type": "code",
   "execution_count": 11,
   "metadata": {},
   "outputs": [
    {
     "name": "stdout",
     "output_type": "stream",
     "text": [
      "\n",
      "Columna A | Columna B\n",
      "      123 |       456\n",
      "\n"
     ]
    }
   ],
   "source": [
    "print(\n",
    "\"\"\"\n",
    "Columna A | Columna B\n",
    "{:9} | {:9}\n",
    "\"\"\".format(123, 456)\n",
    ")"
   ]
  },
  {
   "cell_type": "code",
   "execution_count": 13,
   "metadata": {},
   "outputs": [
    {
     "name": "stdout",
     "output_type": "stream",
     "text": [
      "\n",
      "Columna A | Columna B\n",
      "123       | 456      \n",
      "\n"
     ]
    }
   ],
   "source": [
    "print(\n",
    "\"\"\"\n",
    "Columna A | Columna B\n",
    "{:<9} | {:<9}\n",
    "\"\"\".format(123, 456)\n",
    ")"
   ]
  },
  {
   "cell_type": "code",
   "execution_count": 14,
   "metadata": {},
   "outputs": [
    {
     "name": "stdout",
     "output_type": "stream",
     "text": [
      "\n",
      "Columna A | Columna B\n",
      "   123    |    456   \n",
      "\n"
     ]
    }
   ],
   "source": [
    "print(\n",
    "\"\"\"\n",
    "Columna A | Columna B\n",
    "{:^9} | {:^9}\n",
    "\"\"\".format(123, 456)\n",
    ")"
   ]
  },
  {
   "cell_type": "code",
   "execution_count": 16,
   "metadata": {},
   "outputs": [
    {
     "name": "stdout",
     "output_type": "stream",
     "text": [
      "\n",
      "Columna A | Columna B\n",
      "---123--- | ---456---\n",
      "\n"
     ]
    }
   ],
   "source": [
    "print(\n",
    "\"\"\"\n",
    "Columna A | Columna B\n",
    "{:-^9} | {:-^9}\n",
    "\"\"\".format(123, 456)\n",
    ")"
   ]
  },
  {
   "cell_type": "code",
   "execution_count": 40,
   "metadata": {},
   "outputs": [
    {
     "name": "stdout",
     "output_type": "stream",
     "text": [
      "                 nombre                 |              descripcion               |                 imagen                 \n",
      " -------------------------------------- + -------------------------------------- + -------------------------------------- \n",
      "               Coca Cola                |  Refresco de cola (azúcar y químicos)  |        http://placehold.it/200         \n",
      "             Galletas María             |  Galletas de masa (harinas refinadas)  |        http://placehold.it/200         \n",
      "             Sopa Maruchan              |           Fideos (plástico)            |        http://placehold.it/200         \n"
     ]
    }
   ],
   "source": [
    "from functools import reduce\n",
    "\n",
    "productos = [\n",
    "    {\n",
    "        \"nombre\": \"Coca Cola\",\n",
    "        \"descripcion\": \"Refresco de cola (azúcar y químicos)\",\n",
    "        \"imagen\": \"http://placehold.it/200\"\n",
    "    },\n",
    "    {\n",
    "        \"nombre\": \"Galletas María\",\n",
    "        \"descripcion\": \"Galletas de masa (harinas refinadas)\",\n",
    "        \"imagen\": \"http://placehold.it/200\"\n",
    "    },\n",
    "    {\n",
    "        \"nombre\": \"Sopa Maruchan\",\n",
    "        \"descripcion\": \"Fideos (plástico)\",\n",
    "        \"imagen\": \"http://placehold.it/200\"\n",
    "    },\n",
    "]\n",
    "\n",
    "columnas = productos[0].keys()\n",
    "\n",
    "print(\"|\".join(map(lambda columna: \"{:^40}\".format(columna[:40]), columnas)))\n",
    "print(\"+\".join(map(lambda columna: \"{:^40}\".format(\"-\" * 38), columnas)))\n",
    "for producto in productos:\n",
    "    print(\"|\".join(map(lambda columna: \"{:^40}\".format(columna[:40]), [producto[columna] for columna in columnas])))"
   ]
  }
 ],
 "metadata": {
  "kernelspec": {
   "display_name": "Python 3",
   "language": "python",
   "name": "python3"
  },
  "language_info": {
   "codemirror_mode": {
    "name": "ipython",
    "version": 3
   },
   "file_extension": ".py",
   "mimetype": "text/x-python",
   "name": "python",
   "nbconvert_exporter": "python",
   "pygments_lexer": "ipython3",
   "version": "3.7.3"
  }
 },
 "nbformat": 4,
 "nbformat_minor": 4
}
